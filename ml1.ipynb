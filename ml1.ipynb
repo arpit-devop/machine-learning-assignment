{
  "nbformat": 4,
  "nbformat_minor": 0,
  "metadata": {
    "colab": {
      "provenance": [],
      "authorship_tag": "ABX9TyOOM7elGypbnOH6Fymt0Z3z",
      "include_colab_link": true
    },
    "kernelspec": {
      "name": "python3",
      "display_name": "Python 3"
    },
    "language_info": {
      "name": "python"
    }
  },
  "cells": [
    {
      "cell_type": "markdown",
      "metadata": {
        "id": "view-in-github",
        "colab_type": "text"
      },
      "source": [
        "<a href=\"https://colab.research.google.com/github/arpit-devop/machine-learning-assignment/blob/main/ml1.ipynb\" target=\"_parent\"><img src=\"https://colab.research.google.com/assets/colab-badge.svg\" alt=\"Open In Colab\"/></a>"
      ]
    },
    {
      "cell_type": "code",
      "execution_count": null,
      "metadata": {
        "id": "b4aD1UhclRs4"
      },
      "outputs": [],
      "source": [
        "import numpy as np"
      ]
    },
    {
      "cell_type": "code",
      "source": [
        "arr = np.array([1, 2, 3, 6, 4, 5])\n",
        "reversed_arr = arr[::-1]\n",
        "print(reversed_arr)\n"
      ],
      "metadata": {
        "colab": {
          "base_uri": "https://localhost:8080/"
        },
        "id": "S-nM1JAllW2N",
        "outputId": "cfde1924-f9fd-4768-a6a0-87b193c6fbf4"
      },
      "execution_count": null,
      "outputs": [
        {
          "output_type": "stream",
          "name": "stdout",
          "text": [
            "[5 4 6 3 2 1]\n"
          ]
        }
      ]
    },
    {
      "cell_type": "code",
      "source": [
        "array1 = np.array([[1, 2, 3], [2, 4, 5], [1, 2, 3]])\n",
        "\n",
        "# Method 1: flatten()\n",
        "flat1 = array1.flatten()\n",
        "\n",
        "# Method 2: ravel()\n",
        "flat2 = array1.ravel()\n",
        "\n",
        "print(flat1)\n",
        "print(flat2)\n"
      ],
      "metadata": {
        "colab": {
          "base_uri": "https://localhost:8080/"
        },
        "id": "cVbcYP9Kld3g",
        "outputId": "8734ccd4-1eed-4862-fb9d-bb94c5746334"
      },
      "execution_count": null,
      "outputs": [
        {
          "output_type": "stream",
          "name": "stdout",
          "text": [
            "[1 2 3 2 4 5 1 2 3]\n",
            "[1 2 3 2 4 5 1 2 3]\n"
          ]
        }
      ]
    },
    {
      "cell_type": "code",
      "source": [
        "arr1 = np.array([[1, 2], [3, 4]])\n",
        "arr2 = np.array([[1, 2], [3, 4]])\n",
        "\n",
        "print(np.array_equal(arr1, arr2))\n",
        "print(np.all(arr1 == arr2))\n"
      ],
      "metadata": {
        "colab": {
          "base_uri": "https://localhost:8080/"
        },
        "id": "1B89YNESljiV",
        "outputId": "1795339a-cb44-4864-d8c2-95f65e263623"
      },
      "execution_count": null,
      "outputs": [
        {
          "output_type": "stream",
          "name": "stdout",
          "text": [
            "True\n",
            "True\n"
          ]
        }
      ]
    },
    {
      "cell_type": "code",
      "source": [
        "# i.\n",
        "x = np.array([1,2,3,4,5,1,2,1,1,1])\n",
        "values, counts = np.unique(x, return_counts=True)\n",
        "most_freq_val = values[np.argmax(counts)]\n",
        "indices = np.where(x == most_freq_val)[0]\n",
        "print(\"Most frequent:\", most_freq_val)\n",
        "print(\"Indices:\", indices)\n",
        "\n",
        "# ii.\n",
        "y = np.array([1, 1, 1, 2, 3, 4, 2, 4, 3, 3])\n",
        "values, counts = np.unique(y, return_counts=True)\n",
        "most_freq_val = values[np.argmax(counts)]\n",
        "indices = np.where(y == most_freq_val)[0]\n",
        "print(\"Most frequent:\", most_freq_val)\n",
        "print(\"Indices:\", indices)\n"
      ],
      "metadata": {
        "colab": {
          "base_uri": "https://localhost:8080/"
        },
        "id": "Ko0edd3jlmLu",
        "outputId": "b477116c-342e-4ce8-f09e-9f313ca71be4"
      },
      "execution_count": null,
      "outputs": [
        {
          "output_type": "stream",
          "name": "stdout",
          "text": [
            "Most frequent: 1\n",
            "Indices: [0 5 7 8 9]\n",
            "Most frequent: 1\n",
            "Indices: [0 1 2]\n"
          ]
        }
      ]
    },
    {
      "cell_type": "code",
      "source": [
        "gfg = np.matrix('[4, 1, 9; 12, 3, 1; 4, 5, 6]')\n",
        "\n",
        "# i. Sum of all elements\n",
        "sum_all = gfg.sum()\n",
        "\n",
        "# ii. Sum row-wise\n",
        "sum_row = gfg.sum(axis=1)\n",
        "\n",
        "# iii. Sum column-wise\n",
        "sum_col = gfg.sum(axis=0)\n",
        "\n",
        "print(\"Sum all:\", sum_all)\n",
        "print(\"Sum row-wise:\", sum_row)\n",
        "print(\"Sum column-wise:\", sum_col)\n"
      ],
      "metadata": {
        "colab": {
          "base_uri": "https://localhost:8080/"
        },
        "id": "IP2Pz3lQltf-",
        "outputId": "f4b6efca-7d5a-40bb-c167-9447259bc26e"
      },
      "execution_count": null,
      "outputs": [
        {
          "output_type": "stream",
          "name": "stdout",
          "text": [
            "Sum all: 45\n",
            "Sum row-wise: [[14]\n",
            " [16]\n",
            " [15]]\n",
            "Sum column-wise: [[20  9 16]]\n"
          ]
        }
      ]
    },
    {
      "cell_type": "code",
      "source": [
        "n_array = np.array([[55, 25, 15],[30, 44, 2],[11, 45, 77]])\n",
        "\n",
        "# i. Sum of diagonal elements\n",
        "sum_diag = np.trace(n_array)\n",
        "\n",
        "# ii. Eigen values\n",
        "eig_vals, eig_vecs = np.linalg.eig(n_array)\n",
        "\n",
        "# iii. Eigen vectors\n",
        "# eig_vecs already calculated above\n",
        "\n",
        "# iv. Inverse of matrix\n",
        "inv_matrix = np.linalg.inv(n_array)\n",
        "\n",
        "# v. Determinant\n",
        "det_matrix = np.linalg.det(n_array)\n",
        "\n",
        "print(\"Sum diagonal:\", sum_diag)\n",
        "print(\"Eigenvalues:\", eig_vals)\n",
        "print(\"Eigenvectors:\", eig_vecs)\n",
        "print(\"Inverse matrix:\", inv_matrix)\n",
        "print(\"Determinant:\", det_matrix)\n"
      ],
      "metadata": {
        "colab": {
          "base_uri": "https://localhost:8080/"
        },
        "id": "bz2dQo_slwLr",
        "outputId": "bf4b5c59-1e36-480a-8718-0cee3ebafb0d"
      },
      "execution_count": null,
      "outputs": [
        {
          "output_type": "stream",
          "name": "stdout",
          "text": [
            "Sum diagonal: 176\n",
            "Eigenvalues: [98.16835147 28.097044   49.73460452]\n",
            "Eigenvectors: [[ 0.4574917   0.34637121 -0.15017693]\n",
            " [ 0.28447814 -0.72784061 -0.4852124 ]\n",
            " [ 0.84248058  0.59184038  0.8614034 ]]\n",
            "Inverse matrix: [[ 0.02404141 -0.00911212 -0.00444671]\n",
            " [-0.01667882  0.02966905  0.0024785 ]\n",
            " [ 0.00631287 -0.01603732  0.01217379]]\n",
            "Determinant: 137180.0000000001\n"
          ]
        }
      ]
    },
    {
      "cell_type": "code",
      "source": [
        "# i.\n",
        "p = np.array([[1, 2], [2, 3]])\n",
        "q = np.array([[4, 5], [6, 7]])\n",
        "\n",
        "mul1 = np.matmul(p, q)\n",
        "cov1 = np.cov(p, q)\n",
        "\n",
        "print(\"Multiplication 1:\\n\", mul1)\n",
        "print(\"Covariance 1:\\n\", cov1)\n",
        "\n",
        "# ii.\n",
        "p2 = np.array([[1, 2], [2, 3], [4, 5]])\n",
        "q2 = np.array([[4, 5, 1], [6, 7, 2]])\n",
        "\n",
        "mul2 = np.matmul(p2, q2)\n",
        "\n",
        "cov2 = np.cov(p2.flatten(), q2.flatten())\n",
        "\n",
        "print(\"Multiplication 2:\\n\", mul2)\n",
        "print(\"Covariance 2:\\n\", cov2)\n"
      ],
      "metadata": {
        "colab": {
          "base_uri": "https://localhost:8080/"
        },
        "id": "ElajtYpOlyZ3",
        "outputId": "8f4e1d83-4cc4-401e-9a36-afbcffd5bea1"
      },
      "execution_count": null,
      "outputs": [
        {
          "output_type": "stream",
          "name": "stdout",
          "text": [
            "Multiplication 1:\n",
            " [[16 19]\n",
            " [26 31]]\n",
            "Covariance 1:\n",
            " [[0.5 0.5 0.5 0.5]\n",
            " [0.5 0.5 0.5 0.5]\n",
            " [0.5 0.5 0.5 0.5]\n",
            " [0.5 0.5 0.5 0.5]]\n",
            "Multiplication 2:\n",
            " [[16 19  5]\n",
            " [26 31  8]\n",
            " [46 55 14]]\n",
            "Covariance 2:\n",
            " [[2.16666667 0.23333333]\n",
            " [0.23333333 5.36666667]]\n"
          ]
        }
      ]
    },
    {
      "cell_type": "code",
      "source": [
        "x = np.array([[2, 3, 4], [3, 2, 9]])\n",
        "y = np.array([[1, 5, 0], [5, 10, 3]])\n",
        "\n",
        "\n",
        "inner_prod = np.inner(x, y)\n",
        "\n",
        "outer_prod = np.outer(x.flatten(), y.flatten())\n",
        "\n",
        "from itertools import product\n",
        "cartesian_prod = np.array([np.concatenate((i,j)) for i,j in product(x, y)])\n",
        "\n",
        "print(\"Inner product:\\n\", inner_prod)\n",
        "print(\"Outer product:\\n\", outer_prod)\n",
        "print(\"Cartesian product:\\n\", cartesian_prod)\n"
      ],
      "metadata": {
        "colab": {
          "base_uri": "https://localhost:8080/"
        },
        "id": "uZVVKL9Kl08F",
        "outputId": "2431a1ba-2f77-4f07-b3f0-4aa662a14e2c"
      },
      "execution_count": null,
      "outputs": [
        {
          "output_type": "stream",
          "name": "stdout",
          "text": [
            "Inner product:\n",
            " [[17 52]\n",
            " [13 62]]\n",
            "Outer product:\n",
            " [[ 2 10  0 10 20  6]\n",
            " [ 3 15  0 15 30  9]\n",
            " [ 4 20  0 20 40 12]\n",
            " [ 3 15  0 15 30  9]\n",
            " [ 2 10  0 10 20  6]\n",
            " [ 9 45  0 45 90 27]]\n",
            "Cartesian product:\n",
            " [[ 2  3  4  1  5  0]\n",
            " [ 2  3  4  5 10  3]\n",
            " [ 3  2  9  1  5  0]\n",
            " [ 3  2  9  5 10  3]]\n"
          ]
        }
      ]
    },
    {
      "cell_type": "code",
      "source": [
        "array = np.array([[1, -2, 3],[-4, 5, -6]])\n",
        "\n",
        "# i. Element-wise absolute value\n",
        "abs_array = np.abs(array)\n",
        "\n",
        "# ii. Percentiles (25th, 50th, 75th)\n",
        "percentiles_flat = np.percentile(array, [25, 50, 75])\n",
        "percentiles_col = np.percentile(array, [25, 50, 75], axis=0)\n",
        "percentiles_row = np.percentile(array, [25, 50, 75], axis=1)\n",
        "\n",
        "# iii. Mean, Median, Std dev\n",
        "mean_flat = np.mean(array)\n",
        "median_flat = np.median(array)\n",
        "std_flat = np.std(array)\n",
        "\n",
        "mean_col = np.mean(array, axis=0)\n",
        "median_col = np.median(array, axis=0)\n",
        "std_col = np.std(array, axis=0)\n",
        "\n",
        "mean_row = np.mean(array, axis=1)\n",
        "median_row = np.median(array, axis=1)\n",
        "std_row = np.std(array, axis=1)\n",
        "\n",
        "print(\"Absolute value:\\n\", abs_array)\n",
        "print(\"Percentiles flat:\", percentiles_flat)\n",
        "print(\"Percentiles col:\\n\", percentiles_col)\n",
        "print(\"Percentiles row:\\n\", percentiles_row)\n",
        "print(\"Mean flat:\", mean_flat)\n",
        "print(\"Median flat:\", median_flat)\n",
        "print(\"Std flat:\", std_flat)\n",
        "print(\"Mean col:\", mean_col)\n",
        "print(\"Median col:\", median_col)\n",
        "print(\"Std col:\", std_col)\n",
        "print(\"Mean row:\", mean_row)\n",
        "print(\"Median row:\", median_row)\n",
        "print(\"Std row:\", std_row)\n"
      ],
      "metadata": {
        "colab": {
          "base_uri": "https://localhost:8080/"
        },
        "id": "I4NycnyGl3L5",
        "outputId": "38efb9c3-cb89-4297-89f0-db95ec1342be"
      },
      "execution_count": null,
      "outputs": [
        {
          "output_type": "stream",
          "name": "stdout",
          "text": [
            "Absolute value:\n",
            " [[1 2 3]\n",
            " [4 5 6]]\n",
            "Percentiles flat: [-3.5 -0.5  2.5]\n",
            "Percentiles col:\n",
            " [[-2.75 -0.25 -3.75]\n",
            " [-1.5   1.5  -1.5 ]\n",
            " [-0.25  3.25  0.75]]\n",
            "Percentiles row:\n",
            " [[-0.5 -5. ]\n",
            " [ 1.  -4. ]\n",
            " [ 2.   0.5]]\n",
            "Mean flat: -0.5\n",
            "Median flat: -0.5\n",
            "Std flat: 3.8622100754188224\n",
            "Mean col: [-1.5  1.5 -1.5]\n",
            "Median col: [-1.5  1.5 -1.5]\n",
            "Std col: [2.5 3.5 4.5]\n",
            "Mean row: [ 0.66666667 -1.66666667]\n",
            "Median row: [ 1. -4.]\n",
            "Std row: [2.05480467 4.78423336]\n"
          ]
        }
      ]
    },
    {
      "cell_type": "code",
      "source": [
        "a = np.array([-1.8, -1.6, -0.5, 0.5, 1.6, 1.8, 3.0])\n",
        "\n",
        "floor_vals = np.floor(a)\n",
        "ceil_vals = np.ceil(a)\n",
        "trunc_vals = np.trunc(a)\n",
        "round_vals = np.round(a)\n",
        "\n",
        "print(\"Floor:\", floor_vals)\n",
        "print(\"Ceiling:\", ceil_vals)\n",
        "print(\"Truncated:\", trunc_vals)\n",
        "print(\"Rounded:\", round_vals)\n"
      ],
      "metadata": {
        "colab": {
          "base_uri": "https://localhost:8080/"
        },
        "id": "B4oQfZWgl5S7",
        "outputId": "d54577f6-93db-4e56-d3af-747cfc7ae3b7"
      },
      "execution_count": null,
      "outputs": [
        {
          "output_type": "stream",
          "name": "stdout",
          "text": [
            "Floor: [-2. -2. -1.  0.  1.  1.  3.]\n",
            "Ceiling: [-1. -1. -0.  1.  2.  2.  3.]\n",
            "Truncated: [-1. -1. -0.  0.  1.  1.  3.]\n",
            "Rounded: [-2. -2. -0.  0.  2.  2.  3.]\n"
          ]
        }
      ]
    },
    {
      "cell_type": "code",
      "source": [
        "array = np.array([10, 52, 62, 16, 16, 54, 453])\n",
        "\n",
        "# i. Sorted array\n",
        "sorted_arr = np.sort(array)\n",
        "\n",
        "# ii. Indices of sorted array\n",
        "indices_sorted = np.argsort(array)\n",
        "\n",
        "# iii. 4 smallest elements\n",
        "four_smallest = np.partition(array, 4)[:4]\n",
        "\n",
        "# iv. 5 largest elements\n",
        "five_largest = np.partition(array, -5)[-5:]\n",
        "\n",
        "print(\"Sorted array:\", sorted_arr)\n",
        "print(\"Indices of sorted array:\", indices_sorted)\n",
        "print(\"4 smallest elements:\", four_smallest)\n",
        "print(\"5 largest elements:\", five_largest)\n"
      ],
      "metadata": {
        "colab": {
          "base_uri": "https://localhost:8080/"
        },
        "id": "C7NnAu6Al7f7",
        "outputId": "3ca33f4d-bdec-4ec0-e1cc-24c488b275b7"
      },
      "execution_count": null,
      "outputs": [
        {
          "output_type": "stream",
          "name": "stdout",
          "text": [
            "Sorted array: [ 10  16  16  52  54  62 453]\n",
            "Indices of sorted array: [0 3 4 1 5 2 6]\n",
            "4 smallest elements: [10 16 16 52]\n",
            "5 largest elements: [ 16  52  54  62 453]\n"
          ]
        }
      ]
    },
    {
      "cell_type": "code",
      "source": [
        "array = np.array([1.0, 1.2, 2.2, 2.0, 3.0, 2.0])\n",
        "\n",
        "# i. Integer elements only\n",
        "int_elements = array[array == array.astype(int)]\n",
        "\n",
        "# ii. Float elements only (elements which are not integers)\n",
        "float_elements = array[array != array.astype(int)]\n",
        "\n",
        "print(\"Integer elements:\", int_elements)\n",
        "print(\"Float elements:\", float_elements)\n"
      ],
      "metadata": {
        "colab": {
          "base_uri": "https://localhost:8080/"
        },
        "id": "Ev_PSK5il9j2",
        "outputId": "e534531b-20bf-4a4b-8918-848dd8f7aa4b"
      },
      "execution_count": null,
      "outputs": [
        {
          "output_type": "stream",
          "name": "stdout",
          "text": [
            "Integer elements: [1. 2. 3. 2.]\n",
            "Float elements: [1.2 2.2]\n"
          ]
        }
      ]
    },
    {
      "cell_type": "code",
      "source": [
        "from google.colab import files\n",
        "uploaded = files.upload()\n",
        "img_path = next(iter(uploaded))\n"
      ],
      "metadata": {
        "colab": {
          "base_uri": "https://localhost:8080/",
          "height": 73
        },
        "id": "FrHZ6cfhl_Vr",
        "outputId": "830f20d7-d83a-404b-ea80-8a305fe87974"
      },
      "execution_count": null,
      "outputs": [
        {
          "output_type": "display_data",
          "data": {
            "text/plain": [
              "<IPython.core.display.HTML object>"
            ],
            "text/html": [
              "\n",
              "     <input type=\"file\" id=\"files-60a574bd-6035-4723-ab14-080df641d07c\" name=\"files[]\" multiple disabled\n",
              "        style=\"border:none\" />\n",
              "     <output id=\"result-60a574bd-6035-4723-ab14-080df641d07c\">\n",
              "      Upload widget is only available when the cell has been executed in the\n",
              "      current browser session. Please rerun this cell to enable.\n",
              "      </output>\n",
              "      <script>// Copyright 2017 Google LLC\n",
              "//\n",
              "// Licensed under the Apache License, Version 2.0 (the \"License\");\n",
              "// you may not use this file except in compliance with the License.\n",
              "// You may obtain a copy of the License at\n",
              "//\n",
              "//      http://www.apache.org/licenses/LICENSE-2.0\n",
              "//\n",
              "// Unless required by applicable law or agreed to in writing, software\n",
              "// distributed under the License is distributed on an \"AS IS\" BASIS,\n",
              "// WITHOUT WARRANTIES OR CONDITIONS OF ANY KIND, either express or implied.\n",
              "// See the License for the specific language governing permissions and\n",
              "// limitations under the License.\n",
              "\n",
              "/**\n",
              " * @fileoverview Helpers for google.colab Python module.\n",
              " */\n",
              "(function(scope) {\n",
              "function span(text, styleAttributes = {}) {\n",
              "  const element = document.createElement('span');\n",
              "  element.textContent = text;\n",
              "  for (const key of Object.keys(styleAttributes)) {\n",
              "    element.style[key] = styleAttributes[key];\n",
              "  }\n",
              "  return element;\n",
              "}\n",
              "\n",
              "// Max number of bytes which will be uploaded at a time.\n",
              "const MAX_PAYLOAD_SIZE = 100 * 1024;\n",
              "\n",
              "function _uploadFiles(inputId, outputId) {\n",
              "  const steps = uploadFilesStep(inputId, outputId);\n",
              "  const outputElement = document.getElementById(outputId);\n",
              "  // Cache steps on the outputElement to make it available for the next call\n",
              "  // to uploadFilesContinue from Python.\n",
              "  outputElement.steps = steps;\n",
              "\n",
              "  return _uploadFilesContinue(outputId);\n",
              "}\n",
              "\n",
              "// This is roughly an async generator (not supported in the browser yet),\n",
              "// where there are multiple asynchronous steps and the Python side is going\n",
              "// to poll for completion of each step.\n",
              "// This uses a Promise to block the python side on completion of each step,\n",
              "// then passes the result of the previous step as the input to the next step.\n",
              "function _uploadFilesContinue(outputId) {\n",
              "  const outputElement = document.getElementById(outputId);\n",
              "  const steps = outputElement.steps;\n",
              "\n",
              "  const next = steps.next(outputElement.lastPromiseValue);\n",
              "  return Promise.resolve(next.value.promise).then((value) => {\n",
              "    // Cache the last promise value to make it available to the next\n",
              "    // step of the generator.\n",
              "    outputElement.lastPromiseValue = value;\n",
              "    return next.value.response;\n",
              "  });\n",
              "}\n",
              "\n",
              "/**\n",
              " * Generator function which is called between each async step of the upload\n",
              " * process.\n",
              " * @param {string} inputId Element ID of the input file picker element.\n",
              " * @param {string} outputId Element ID of the output display.\n",
              " * @return {!Iterable<!Object>} Iterable of next steps.\n",
              " */\n",
              "function* uploadFilesStep(inputId, outputId) {\n",
              "  const inputElement = document.getElementById(inputId);\n",
              "  inputElement.disabled = false;\n",
              "\n",
              "  const outputElement = document.getElementById(outputId);\n",
              "  outputElement.innerHTML = '';\n",
              "\n",
              "  const pickedPromise = new Promise((resolve) => {\n",
              "    inputElement.addEventListener('change', (e) => {\n",
              "      resolve(e.target.files);\n",
              "    });\n",
              "  });\n",
              "\n",
              "  const cancel = document.createElement('button');\n",
              "  inputElement.parentElement.appendChild(cancel);\n",
              "  cancel.textContent = 'Cancel upload';\n",
              "  const cancelPromise = new Promise((resolve) => {\n",
              "    cancel.onclick = () => {\n",
              "      resolve(null);\n",
              "    };\n",
              "  });\n",
              "\n",
              "  // Wait for the user to pick the files.\n",
              "  const files = yield {\n",
              "    promise: Promise.race([pickedPromise, cancelPromise]),\n",
              "    response: {\n",
              "      action: 'starting',\n",
              "    }\n",
              "  };\n",
              "\n",
              "  cancel.remove();\n",
              "\n",
              "  // Disable the input element since further picks are not allowed.\n",
              "  inputElement.disabled = true;\n",
              "\n",
              "  if (!files) {\n",
              "    return {\n",
              "      response: {\n",
              "        action: 'complete',\n",
              "      }\n",
              "    };\n",
              "  }\n",
              "\n",
              "  for (const file of files) {\n",
              "    const li = document.createElement('li');\n",
              "    li.append(span(file.name, {fontWeight: 'bold'}));\n",
              "    li.append(span(\n",
              "        `(${file.type || 'n/a'}) - ${file.size} bytes, ` +\n",
              "        `last modified: ${\n",
              "            file.lastModifiedDate ? file.lastModifiedDate.toLocaleDateString() :\n",
              "                                    'n/a'} - `));\n",
              "    const percent = span('0% done');\n",
              "    li.appendChild(percent);\n",
              "\n",
              "    outputElement.appendChild(li);\n",
              "\n",
              "    const fileDataPromise = new Promise((resolve) => {\n",
              "      const reader = new FileReader();\n",
              "      reader.onload = (e) => {\n",
              "        resolve(e.target.result);\n",
              "      };\n",
              "      reader.readAsArrayBuffer(file);\n",
              "    });\n",
              "    // Wait for the data to be ready.\n",
              "    let fileData = yield {\n",
              "      promise: fileDataPromise,\n",
              "      response: {\n",
              "        action: 'continue',\n",
              "      }\n",
              "    };\n",
              "\n",
              "    // Use a chunked sending to avoid message size limits. See b/62115660.\n",
              "    let position = 0;\n",
              "    do {\n",
              "      const length = Math.min(fileData.byteLength - position, MAX_PAYLOAD_SIZE);\n",
              "      const chunk = new Uint8Array(fileData, position, length);\n",
              "      position += length;\n",
              "\n",
              "      const base64 = btoa(String.fromCharCode.apply(null, chunk));\n",
              "      yield {\n",
              "        response: {\n",
              "          action: 'append',\n",
              "          file: file.name,\n",
              "          data: base64,\n",
              "        },\n",
              "      };\n",
              "\n",
              "      let percentDone = fileData.byteLength === 0 ?\n",
              "          100 :\n",
              "          Math.round((position / fileData.byteLength) * 100);\n",
              "      percent.textContent = `${percentDone}% done`;\n",
              "\n",
              "    } while (position < fileData.byteLength);\n",
              "  }\n",
              "\n",
              "  // All done.\n",
              "  yield {\n",
              "    response: {\n",
              "      action: 'complete',\n",
              "    }\n",
              "  };\n",
              "}\n",
              "\n",
              "scope.google = scope.google || {};\n",
              "scope.google.colab = scope.google.colab || {};\n",
              "scope.google.colab._files = {\n",
              "  _uploadFiles,\n",
              "  _uploadFilesContinue,\n",
              "};\n",
              "})(self);\n",
              "</script> "
            ]
          },
          "metadata": {}
        },
        {
          "output_type": "stream",
          "name": "stdout",
          "text": [
            "Saving Screenshot 2025-08-04 114214.png to Screenshot 2025-08-04 114214 (1).png\n"
          ]
        }
      ]
    },
    {
      "cell_type": "code",
      "source": [
        "arr = img_to_array(img_path)\n"
      ],
      "metadata": {
        "id": "0rs1WhlFmBD1"
      },
      "execution_count": null,
      "outputs": []
    },
    {
      "cell_type": "code",
      "source": [
        "from PIL import Image\n",
        "import numpy as np\n",
        "\n",
        "def img_to_array(path):\n",
        "    img = Image.open(path)\n",
        "    arr = np.array(img)\n",
        "    # Check if grayscale or RGB\n",
        "    if arr.ndim == 2:\n",
        "        # Grayscale image\n",
        "        np.savetxt('grayscale_image.txt', arr, fmt='%d')\n",
        "        print(\"Saved as grayscale_image.txt\")\n",
        "    elif arr.ndim == 3 and arr.shape[2] == 3:\n",
        "        # RGB image: Save each channel as separate file or flatten\n",
        "        arr_reshaped = arr.reshape(-1, 3)\n",
        "        np.savetxt('rgb_image.txt', arr_reshaped, fmt='%d')\n",
        "        print(\"Saved as rgb_image.txt (flattened per pixel)\")\n",
        "    else:\n",
        "        raise Exception(\"Unsupported image format\")\n",
        "    return arr\n"
      ],
      "metadata": {
        "id": "8VIQlFb8mDDV"
      },
      "execution_count": null,
      "outputs": []
    },
    {
      "cell_type": "code",
      "source": [],
      "metadata": {
        "id": "0z5Lx2c2t6oF"
      },
      "execution_count": null,
      "outputs": []
    }
  ]
}